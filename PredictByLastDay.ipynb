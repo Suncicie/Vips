{
 "cells": [
  {
   "cell_type": "code",
   "execution_count": 23,
   "metadata": {
    "collapsed": true
   },
   "outputs": [],
   "source": [
    "import os\n",
    "os.chdir(\"/Users/Suncicie/Study/DataMining/Competition/Vips\")\n",
    "import numpy as np\n",
    "import pandas as  pd\n",
    "from sklearn.preprocessing import OneHotEncoder\n",
    "from sklearn.linear_model import LogisticRegression\n",
    "from scipy import sparse"
   ]
  },
  {
   "cell_type": "code",
   "execution_count": 24,
   "metadata": {},
   "outputs": [],
   "source": [
    "user_action_train=pd.read_table(\"data/user_action_train.txt\",header=-1)\n",
    "goods=pd.read_table(\"data/goods_train.txt\",header=-1)\n",
    "user_action_test=pd.read_table(\"data/user_action_test_items.txt\",header=-1)\n",
    "\n",
    "user_action_train.columns=[\"user_id\",\"spu_id\",\"bought\",\"date\"]\n",
    "user_action_test.columns=[\"user_id\",\"spu_id\",\"prob\"]\n",
    "goods.columns=[\"spu_id\",\"brand_id\",\"cat_id\"]"
   ]
  },
  {
   "cell_type": "code",
   "execution_count": 30,
   "metadata": {},
   "outputs": [
    {
     "name": "stdout",
     "output_type": "stream",
     "text": [
      "5761091\n"
     ]
    }
   ],
   "source": [
    "# user_act_lastdaxy=user_action_train.ix[user_action_train[\"date\"]==\"03-31\",[\"user_id\"]]\n",
    "# print user_act_lastdaxy.head()\n",
    "print len(user_action_test)\n",
    "print user_act_lastdaxy.head()\n",
    "user_act_lastday=user_act_lastdaxy[\"user_id\"].unique()\n",
    "print len(user_act_lastday)"
   ]
  },
  {
   "cell_type": "code",
   "execution_count": 22,
   "metadata": {},
   "outputs": [
    {
     "name": "stdout",
     "output_type": "stream",
     "text": [
      "<type 'numpy.ndarray'>\n0\n"
     ]
    }
   ],
   "source": [
    "print type(user_act_lastday)\n",
    "print int(2648850000 in user_act_lastday)"
   ]
  },
  {
   "cell_type": "code",
   "execution_count": 24,
   "metadata": {},
   "outputs": [
    {
     "name": "stdout",
     "output_type": "stream",
     "text": [
      "   user_id   spu_id  prob\n0    60750  1580520     1\n1   595361   484220     0\n2    45427   326736     1\n3   443345  1049603     1\n4   318510    74820     0\n"
     ]
    }
   ],
   "source": [
    "# user_act_lastday=user_act_lastday.reset_index()\n",
    "# print user_act_lastday.head()\n",
    "# user_act_lastdaxy=user_action_train.ix[user_action_train[\"date\"]==\"03-31\",[\"user_id\"]]\n",
    "# result=user_action_test.ix[user_action_test[\"user_id\"] in user_act_lastday,[] ]\n",
    "# user_action_test1=user_action_test.iloc[1:100,]\n",
    "user_action_test[\"prob\"]=user_action_test[\"user_id\"].apply(lambda x: int(x in user_act_lastday))\n",
    "print user_action_test.head()"
   ]
  },
  {
   "cell_type": "code",
   "execution_count": 3,
   "metadata": {},
   "outputs": [
    {
     "name": "stdout",
     "output_type": "stream",
     "text": [
      "5761091\n   0\n0  1\n1  0\n2  1\n3  1\n4  0\n"
     ]
    }
   ],
   "source": [
    "result=pd.read_table(\"data/result_byLastDay1.txt\",header=None)\n",
    "print len(result)\n",
    "print result.head()\n",
    "# user_action_test[\"prob\"].append(np.Series[1])\n",
    "print type(result)\n",
    "result=result.append([1])\n",
    "print len(result)"
   ]
  },
  {
   "cell_type": "code",
   "execution_count": 11,
   "metadata": {},
   "outputs": [],
   "source": [
    "result.to_csv(\"data/result_byLastDay3.txt\",sep=\" \",index=False)"
   ]
  },
  {
   "cell_type": "code",
   "execution_count": 12,
   "metadata": {},
   "outputs": [
    {
     "name": "stdout",
     "output_type": "stream",
     "text": [
      "   0\n0  1\n1  0\n2  1\n3  1\n4  0\n         0\n5761089  1\n5761090  1\n0        1\n0        0\n0        0\n5761094\n"
     ]
    }
   ],
   "source": [
    "result=result.append([0])\n",
    "print result.head()\n",
    "print result.tail()\n",
    "print len(result)\n",
    "user_action_test[\"prob\"].to_csv(\"data/result_byLastDay1.txt\",index=False,sep=\" \")"
   ]
  },
  {
   "cell_type": "code",
   "execution_count": 33,
   "metadata": {},
   "outputs": [],
   "source": [
    ""
   ]
  },
  {
   "cell_type": "code",
   "execution_count": 29,
   "metadata": {},
   "outputs": [
    {
     "name": "stdout",
     "output_type": "stream",
     "text": [
      "[1 0]\n5761091\n5761091\n"
     ]
    }
   ],
   "source": [
    "print user_action_test[\"prob\"].unique()\n",
    "print len(user_action_test)\n",
    "print len(user_action_test[\"prob\"])"
   ]
  },
  {
   "cell_type": "code",
   "execution_count": 32,
   "metadata": {},
   "outputs": [
    {
     "ename": "TypeError",
     "evalue": "parser_f() got an unexpected keyword argument 'head'",
     "traceback": [
      "\u001b[0;31m---------------------------------------------------------------------------\u001b[0m",
      "\u001b[0;31mTypeError\u001b[0m                                 Traceback (most recent call last)",
      "\u001b[0;32m<ipython-input-32-05ba1dc99b3f>\u001b[0m in \u001b[0;36m<module>\u001b[0;34m()\u001b[0m\n\u001b[0;32m----> 1\u001b[0;31m \u001b[0mresult1\u001b[0m\u001b[0;34m=\u001b[0m\u001b[0mpd\u001b[0m\u001b[0;34m.\u001b[0m\u001b[0mread_table\u001b[0m\u001b[0;34m(\u001b[0m\u001b[0;34m\"data/result_byLastDay.txt\"\u001b[0m\u001b[0;34m,\u001b[0m\u001b[0mhead\u001b[0m\u001b[0;34m=\u001b[0m\u001b[0mFalse\u001b[0m\u001b[0;34m)\u001b[0m\u001b[0;34m\u001b[0m\u001b[0m\n\u001b[0m\u001b[1;32m      2\u001b[0m \u001b[0;32mprint\u001b[0m \u001b[0mresult1\u001b[0m\u001b[0;34m.\u001b[0m\u001b[0mhead\u001b[0m\u001b[0;34m(\u001b[0m\u001b[0;34m)\u001b[0m\u001b[0;34m\u001b[0m\u001b[0m\n\u001b[1;32m      3\u001b[0m \u001b[0;32mprint\u001b[0m \u001b[0mlen\u001b[0m\u001b[0;34m(\u001b[0m\u001b[0mresult1\u001b[0m\u001b[0;34m)\u001b[0m\u001b[0;34m\u001b[0m\u001b[0m\n",
      "\u001b[0;31mTypeError\u001b[0m: parser_f() got an unexpected keyword argument 'head'"
     ],
     "output_type": "error"
    }
   ],
   "source": [
    "result1=pd.read_table(\"data/result_byLastDay.txt\",head=False)\n",
    "print result1.head()\n",
    "print len(result1)"
   ]
  },
  {
   "cell_type": "code",
   "execution_count": 21,
   "metadata": {},
   "outputs": [],
   "source": [
    "# test=pd.read_table(\"data/user_action_test_items.txt\",header=None)\n",
    "# test.columns=[\"user_id\",\"spu_id\",\"prob\"]\n",
    "# # print test.head()\n",
    "# print test.head()\n",
    "# print test.tail()\n",
    "test[\"prob\"]=0.5\n",
    "test[\"prob\"].to_csv(\"data/re.txt\",sep=\" \",index=False)"
   ]
  },
  {
   "cell_type": "code",
   "execution_count": 22,
   "metadata": {},
   "outputs": [
    {
     "name": "stdout",
     "output_type": "stream",
     "text": [
      "   user_id   spu_id  prob\n0   117570   771214   0.5\n1    60750  1580520   0.5\n2   595361   484220   0.5\n3    45427   326736   0.5\n4   443345  1049603   0.5\n         user_id   spu_id  prob\n5761087   298937   379513   0.5\n5761088   593560  1052681   0.5\n5761089   426340  1265423   0.5\n5761090   245962  1762799   0.5\n5761091    74433  1833485   0.5\n"
     ]
    }
   ],
   "source": [
    "# test.columns=[\"user_id\",\"spu_id\",\"prob\"]\n",
    "# print test.head()\n",
    "print test.head()\n",
    "print test.tail()"
   ]
  },
  {
   "cell_type": "code",
   "execution_count": null,
   "metadata": {},
   "outputs": [],
   "source": [
    ""
   ]
  }
 ],
 "metadata": {
  "kernelspec": {
   "display_name": "Python 2",
   "language": "python",
   "name": "python2"
  }
 },
 "nbformat": 4,
 "nbformat_minor": 0
}